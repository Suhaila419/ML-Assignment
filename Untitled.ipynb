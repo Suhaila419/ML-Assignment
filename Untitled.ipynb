{
 "cells": [
  {
   "cell_type": "code",
   "execution_count": 2,
   "id": "30e49f71-e64a-493f-a700-8f104d32d2a0",
   "metadata": {},
   "outputs": [
    {
     "name": "stdout",
     "output_type": "stream",
     "text": [
      "0.5434202691630055\n",
      "Mean Squared Error equal: 1.0868405383260111\n",
      "Mean Absolute Error equal: 0.8337998627842382\n",
      "Mean Squared Error over Mean Absolute Error: 1.303478912429675\n"
     ]
    }
   ],
   "source": [
    "\n",
    "import numpy as np\n",
    "from sklearn.model_selection import train_test_split\n",
    "from sklearn.datasets import make_regression\n",
    "# make_regression ----> create a dataset for testing or illustrating linear regression models\n",
    "#  noise---> to make the data more realistic.\n",
    "data, label = make_regression(n_samples=1000, n_features=3, noise=1, random_state=0)\n",
    "\n",
    "data_train , data_test, label_train, label_test = train_test_split(data,label,test_size=0.3,random_state=0)# Shuffle data for balanced distribution across splits\n",
    "\n",
    "\n",
    "matrix_X_Train=np.array(data_train)\n",
    "matrix_X_Test=np.array(data_test)\n",
    "# Create a column of ones with the same number of rows as matrix_X\n",
    "ones_column_Train = np.ones((matrix_X_Train.shape[0], 1))\n",
    "ones_column_Test = np.ones((matrix_X_Test.shape[0], 1))\n",
    "\n",
    "# insert columns ones in matrix_x\n",
    "X = np.column_stack((ones_column_Train, matrix_X_Train))\n",
    "X_Test = np.column_stack((ones_column_Test, matrix_X_Test))\n",
    "\n",
    "# X transpose\n",
    "X_transpose=X.T\n",
    "\n",
    "# X_transpose * X  5 row x 105 column * 105 row x 5 column ---> square matrix (5 row x 5 column)\n",
    "square_matrix=X_transpose.dot(X)\n",
    "\n",
    "# inverse (X_transpose * X) 5 row x 5 column\n",
    "inverse_square_matrix=np.linalg.inv(square_matrix)\n",
    "\n",
    "# (X_transpose * X) ^ inverse * X_transpose ---> 5 row x 5 column * 5 row x 105 column ---> 5 row x 105 column\n",
    "inv_Tran=inverse_square_matrix.dot(X_transpose)\n",
    "\n",
    "# W=(((X^T)*X)^-1)*(X^T)* Y ----> 5 row x 105 column * 105 row x 1 column --> 5 row x 1 column\n",
    "W=inv_Tran.dot(label_train)\n",
    "\n",
    "# prediction to compute error\n",
    "predict_y=X_Test.dot(W)\n",
    "\n",
    "def compute_loss(predicted_y, y): \n",
    "    loss=0.5*(np.mean((y - predicted_y) ** 2))\n",
    "    return loss\n",
    "print(compute_loss(predict_y,label_test))\n",
    "def MSE(predicted_y, y):\n",
    "    mse = (1 / len(y)) * np.sum((y - predicted_y) ** 2)\n",
    "    return mse\n",
    "\n",
    "print(\"Mean Squared Error equal:\", MSE(predict_y, label_test))\n",
    "\n",
    "# Mean Absolute Error (MAE)\n",
    "def MAE(predicted_y, y):\n",
    "    mae = (1 / len(y)) * np.sum(np.abs(y - predicted_y))  # Absolute Error\n",
    "    return mae\n",
    "\n",
    "print(\"Mean Absolute Error equal:\", MAE(predict_y, label_test))\n",
    "\n",
    "# Optional: Ratio of MSE/MAE\n",
    "print(\"Mean Squared Error over Mean Absolute Error:\", MSE(predict_y, label_test) / MAE(predict_y, label_test))\n",
    "\n"
   ]
  },
  {
   "cell_type": "code",
   "execution_count": null,
   "id": "e981572e-5379-41b2-a7a1-feefdc873366",
   "metadata": {},
   "outputs": [],
   "source": []
  }
 ],
 "metadata": {
  "kernelspec": {
   "display_name": "Python 3 (ipykernel)",
   "language": "python",
   "name": "python3"
  },
  "language_info": {
   "codemirror_mode": {
    "name": "ipython",
    "version": 3
   },
   "file_extension": ".py",
   "mimetype": "text/x-python",
   "name": "python",
   "nbconvert_exporter": "python",
   "pygments_lexer": "ipython3",
   "version": "3.12.4"
  }
 },
 "nbformat": 4,
 "nbformat_minor": 5
}
